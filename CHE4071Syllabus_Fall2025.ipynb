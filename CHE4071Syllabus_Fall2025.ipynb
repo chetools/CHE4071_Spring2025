{
  "nbformat": 4,
  "nbformat_minor": 0,
  "metadata": {
    "colab": {
      "provenance": [],
      "authorship_tag": "ABX9TyMTcjkPR2m4P7ONfN7pG1m/",
      "include_colab_link": true
    },
    "kernelspec": {
      "name": "python3",
      "display_name": "Python 3"
    },
    "language_info": {
      "name": "python"
    }
  },
  "cells": [
    {
      "cell_type": "markdown",
      "metadata": {
        "id": "view-in-github",
        "colab_type": "text"
      },
      "source": [
        "<a href=\"https://colab.research.google.com/github/chetools/CHE4071_Spring2025/blob/main/CHE4071Syllabus_Fall2025.ipynb\" target=\"_parent\"><img src=\"https://colab.research.google.com/assets/colab-badge.svg\" alt=\"Open In Colab\"/></a>"
      ]
    },
    {
      "cell_type": "markdown",
      "metadata": {
        "id": "PiBxWvul6EEV"
      },
      "source": [
        "**CHE 4071 - Process Dynamics and Control**\n",
        "\n",
        "Instructor: Carlos Co<br>\n",
        "email: carlos.co@uc.edu"
      ]
    },
    {
      "cell_type": "markdown",
      "metadata": {
        "id": "Ombfx18dsO_G"
      },
      "source": [
        "###Recommended Textbook: Process Dynamics and Control, 3rd Edition, by Seborg, Mellichamp, Edgar, Doyle"
      ]
    },
    {
      "cell_type": "markdown",
      "metadata": {
        "id": "dQGhiM_o6477"
      },
      "source": [
        "##Topics\n",
        "\n",
        "This is course focuses on theoretical model development and computational methods for analyzing and simulating the time varying open and closed loop dynamics of Chemical Engineering processes<br>\n",
        "\n",
        "1. Mathematical modelling of dynamic processes\n",
        "    a. Time-dependent material and energy balances\n",
        "    b. Degree of freedom analysis\n",
        "2. Analytical methods\n",
        "    a.  Laplace transforms\n",
        "    b.  Linearization\n",
        "3. Characteristic dynamics of first, second, and higher-order, systems<br>\n",
        "4. Process identification and empirical model development\n",
        "5. Feedback Control and stabilty (block diagrams, PID, cascade control, and root locus diagrams)\n",
        "6. Frequency response analysis (Bode/Nyquist Diagrams, gain/phase margins)\n",
        "\n"
      ]
    },
    {
      "cell_type": "markdown",
      "metadata": {
        "id": "AMk2GUql-iaR"
      },
      "source": [
        "##Computational Emphasis\n",
        "\n",
        "WHAT IF?  Is a question an engineer should never stop asking.  Any calculation worth doing once in a real engineering situation, is inevitably repeated over and over again for different conditions.  Coding to automate calculations is therefore one of the most valuable engineering skills. We will use Python intensively in this class using Google's Colaboratory Jupyter Notebook environment.  It is highly recommended for you to go through the following free online texts to brush up on your Python skills BEFORE our first class:\n",
        "\n",
        "https://www.w3schools.com/PYTHON/\n",
        "\n",
        "https://jakevdp.github.io/WhirlwindTourOfPython/\n",
        "\n",
        "https://jakevdp.github.io/PythonDataScienceHandbook/\n",
        "\n",
        "https://colab.research.google.com/notebooks/intro.ipynb\n",
        "\n",
        "https://plotly.com/python/plotly-fundamentals/\n",
        "\n",
        "https://numpy.org/doc/stable/user/quickstart.html"
      ]
    },
    {
      "cell_type": "markdown",
      "metadata": {
        "id": "uCG99BF0_DOB"
      },
      "source": [
        "##Grading\n",
        "\n",
        "Attendance and class participation are mandatory.   If you are absent for a good reason (coop interview, medical, military, etc.) send me an email (carlos.co@uc.edu).  5 or more unexcused absences will result in an unpredictable grade.\n",
        "\n",
        "In the real world, there are no 2 hour exams.  While there are deadlines, no boss will prevent you from working extra at night or weekends on a project.  Success as an engineer comes from persistent attention to detail, hard work, desire to learn, and communication skills.\n",
        "\n",
        "Grading in this course will try to reflect this reality as closely as possible.  There will be ~5 homework problems that require submission of Youtube videos where you present (without looking at notes) solution to problems and write Python code (live) to complete the calculations.<br>\n",
        "\n",
        "You will have ~1.5 weeks to complete each of these multipart videos submitted as YouTube playlists that would range from 30 to 90 minutes long.  Do note that because you are presenting on camera and not allowed to look at notes while you present and write the code, it will take MANY attempts to make a video worthy of submission.  Make your first recording attempt no later than the 3rd day after each part of the HW is assigned.  It will be much harder than you think - do not procrastinate.  Your camera angles should provide <u>irrefutable</u> evidence that the work is not merely being copied and read aloud.  Make short practice takes to make sure that you have locked focus/exposure and that handwriting, face, and screen are legible."
      ]
    },
    {
      "cell_type": "markdown",
      "metadata": {
        "id": "4YTE2HsNPoaM"
      },
      "source": [
        "## Required Supplies\n",
        "\n",
        "1.  Access to a large whiteboard/chalkboard.\n",
        "\n",
        "2.  A means for recording yourself while you solve problems on the whiteboard in #2.\n",
        "\n",
        "3.  If you prefer to use an iPad or Tablet with pen instead of a whiteboard, you must simultaneously record the iPad/Tablet screen and a webcam/phone cam showing your face as you explain your work.\n",
        "\n",
        "4.  Python coding sections will require you to type out (while capturing the screen) and explain code with a webcam (recording your face).\n",
        "\n",
        "5.  Install OBS (https://obsproject.com/download) to do screen capture simultaneously with your webcam.\n",
        "\n",
        "6.  Movie editing program so you can overlay your screen recording, cell phone recording and/or webcam recording.\n",
        "\n",
        "7.  A confirmed YouTube account so you can upload playlists with unlimited length videos."
      ]
    }
  ]
}