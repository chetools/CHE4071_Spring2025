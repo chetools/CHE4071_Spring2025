{
  "nbformat": 4,
  "nbformat_minor": 0,
  "metadata": {
    "colab": {
      "provenance": [],
      "authorship_tag": "ABX9TyOvVTZjh+LFVu9McoXhB147",
      "include_colab_link": true
    },
    "kernelspec": {
      "name": "python3",
      "display_name": "Python 3"
    },
    "language_info": {
      "name": "python"
    }
  },
  "cells": [
    {
      "cell_type": "markdown",
      "metadata": {
        "id": "view-in-github",
        "colab_type": "text"
      },
      "source": [
        "<a href=\"https://colab.research.google.com/github/chetools/CHE4071_Spring2025/blob/main/MultilinearRegressionRungePhenomena.ipynb\" target=\"_parent\"><img src=\"https://colab.research.google.com/assets/colab-badge.svg\" alt=\"Open In Colab\"/></a>"
      ]
    },
    {
      "cell_type": "code",
      "execution_count": 14,
      "metadata": {
        "id": "iaQR0D_p7-qQ"
      },
      "outputs": [],
      "source": [
        "import numpy as np\n",
        "import pandas as pd\n",
        "from plotly.subplots import make_subplots"
      ]
    },
    {
      "cell_type": "code",
      "source": [
        "df = pd.read_excel('McCollumData.xlsx')"
      ],
      "metadata": {
        "id": "v7nV6bkO8Arx"
      },
      "execution_count": 4,
      "outputs": []
    },
    {
      "cell_type": "code",
      "source": [
        "xdata = df['xdata'].values\n",
        "ydata = df['ydata'].values"
      ],
      "metadata": {
        "id": "OS1DPDMU8tmi"
      },
      "execution_count": 7,
      "outputs": []
    },
    {
      "cell_type": "code",
      "source": [
        "Q = np.c_[xdata**2, np.sin(1.5*xdata), np.ones_like(xdata)]"
      ],
      "metadata": {
        "id": "4ysWlFjF82ti"
      },
      "execution_count": 8,
      "outputs": []
    },
    {
      "cell_type": "code",
      "source": [
        "np.linalg.lstsq(Q,ydata)"
      ],
      "metadata": {
        "colab": {
          "base_uri": "https://localhost:8080/"
        },
        "id": "5aHuIno-9DWz",
        "outputId": "8e552a7d-18fa-4b9d-c523-7d7b5e377f63"
      },
      "execution_count": 13,
      "outputs": [
        {
          "output_type": "execute_result",
          "data": {
            "text/plain": [
              "(array([0.49957544, 1.10203601, 2.09934583]),\n",
              " array([0.00889625]),\n",
              " np.int32(3),\n",
              " array([20.15930728,  7.24431163,  2.34380421]))"
            ]
          },
          "metadata": {},
          "execution_count": 13
        }
      ]
    },
    {
      "cell_type": "code",
      "source": [
        "N=25\n",
        "xdata = np.linspace(-1,1,N)\n",
        "\n",
        "xdata = np.polynomial.chebyshev.chebpts1(N)\n",
        "ydata = 1/(1+25*xdata**2)"
      ],
      "metadata": {
        "id": "MPcumeNW9Dwz"
      },
      "execution_count": 93,
      "outputs": []
    },
    {
      "cell_type": "code",
      "source": [
        "xplot = np.linspace(-1,1,100)\n",
        "Qplot=np.vander(xplot, N)"
      ],
      "metadata": {
        "id": "rr4crvyR-6-Q"
      },
      "execution_count": 94,
      "outputs": []
    },
    {
      "cell_type": "code",
      "source": [
        "coeff = np.polyfit(xdata,ydata,deg=N-1)"
      ],
      "metadata": {
        "id": "WuHpbtY9-_yn"
      },
      "execution_count": 95,
      "outputs": []
    },
    {
      "cell_type": "code",
      "source": [
        "fig=make_subplots()\n",
        "fig.add_scatter(x=xdata, y=ydata, mode='markers')\n",
        "fig.add_scatter(x=xplot, y=Qplot@coeff, mode='lines')\n",
        "fig.update_layout(width=700, height=400, template='plotly_dark')"
      ],
      "metadata": {
        "colab": {
          "base_uri": "https://localhost:8080/",
          "height": 417
        },
        "id": "2B0Bf0go-v4l",
        "outputId": "0d48bbe1-0b18-46b7-80db-2ab3e12bd43b"
      },
      "execution_count": 96,
      "outputs": [
        {
          "output_type": "display_data",
          "data": {
            "text/html": [
              "<html>\n",
              "<head><meta charset=\"utf-8\" /></head>\n",
              "<body>\n",
              "    <div>            <script src=\"https://cdnjs.cloudflare.com/ajax/libs/mathjax/2.7.5/MathJax.js?config=TeX-AMS-MML_SVG\"></script><script type=\"text/javascript\">if (window.MathJax && window.MathJax.Hub && window.MathJax.Hub.Config) {window.MathJax.Hub.Config({SVG: {font: \"STIX-Web\"}});}</script>                <script type=\"text/javascript\">window.PlotlyConfig = {MathJaxConfig: 'local'};</script>\n",
              "        <script charset=\"utf-8\" src=\"https://cdn.plot.ly/plotly-2.35.2.min.js\"></script>                <div id=\"cda4f3f9-53e9-4a9b-8f80-5617c4f325be\" class=\"plotly-graph-div\" style=\"height:400px; width:700px;\"></div>            <script type=\"text/javascript\">                                    window.PLOTLYENV=window.PLOTLYENV || {};                                    if (document.getElementById(\"cda4f3f9-53e9-4a9b-8f80-5617c4f325be\")) {                    Plotly.newPlot(                        \"cda4f3f9-53e9-4a9b-8f80-5617c4f325be\",                        [{\"mode\":\"markers\",\"x\":[-0.9980267284282716,-0.9822872507286887,-0.9510565162951535,-0.9048270524660196,-0.8443279255020151,-0.7705132427757893,-0.6845471059286887,-0.5877852522924731,-0.4817536741017153,-0.368124552684678,-0.2486898871648548,-0.12533323356430426,0.0,0.12533323356430426,0.2486898871648548,0.368124552684678,0.4817536741017153,0.5877852522924731,0.6845471059286887,0.7705132427757893,0.8443279255020151,0.9048270524660196,0.9510565162951535,0.9822872507286887,0.9980267284282716],\"y\":[0.0386079013624346,0.03980542142955901,0.04235006897143931,0.0465813919437019,0.053128636081088504,0.06312228141547914,0.07864653400888687,0.10376363605465243,0.14701201614091278,0.22789985810196978,0.39274729292657856,0.7180243202947112,1.0,0.7180243202947112,0.39274729292657856,0.22789985810196978,0.14701201614091278,0.10376363605465243,0.07864653400888687,0.06312228141547914,0.053128636081088504,0.0465813919437019,0.04235006897143931,0.03980542142955901,0.0386079013624346],\"type\":\"scatter\"},{\"mode\":\"lines\",\"x\":[-1.0,-0.9797979797979798,-0.9595959595959596,-0.9393939393939394,-0.9191919191919192,-0.898989898989899,-0.8787878787878788,-0.8585858585858586,-0.8383838383838383,-0.8181818181818181,-0.797979797979798,-0.7777777777777778,-0.7575757575757576,-0.7373737373737373,-0.7171717171717171,-0.696969696969697,-0.6767676767676767,-0.6565656565656566,-0.6363636363636364,-0.6161616161616161,-0.5959595959595959,-0.5757575757575757,-0.5555555555555556,-0.5353535353535352,-0.5151515151515151,-0.4949494949494949,-0.4747474747474747,-0.4545454545454545,-0.43434343434343425,-0.41414141414141414,-0.3939393939393939,-0.3737373737373737,-0.3535353535353535,-0.33333333333333326,-0.31313131313131304,-0.2929292929292928,-0.2727272727272727,-0.2525252525252525,-0.23232323232323226,-0.21212121212121204,-0.19191919191919182,-0.1717171717171716,-0.1515151515151515,-0.13131313131313127,-0.11111111111111105,-0.09090909090909083,-0.07070707070707061,-0.050505050505050386,-0.030303030303030276,-0.010101010101010055,0.010101010101010166,0.030303030303030498,0.05050505050505061,0.07070707070707072,0.09090909090909105,0.11111111111111116,0.1313131313131315,0.1515151515151516,0.1717171717171717,0.19191919191919204,0.21212121212121215,0.2323232323232325,0.2525252525252526,0.27272727272727293,0.29292929292929304,0.31313131313131315,0.3333333333333335,0.3535353535353536,0.3737373737373739,0.39393939393939403,0.41414141414141437,0.4343434343434345,0.4545454545454546,0.4747474747474749,0.49494949494949503,0.5151515151515154,0.5353535353535355,0.5555555555555556,0.5757575757575759,0.595959595959596,0.6161616161616164,0.6363636363636365,0.6565656565656568,0.6767676767676769,0.696969696969697,0.7171717171717173,0.7373737373737375,0.7575757575757578,0.7777777777777779,0.7979797979797982,0.8181818181818183,0.8383838383838385,0.8585858585858588,0.8787878787878789,0.8989898989898992,0.9191919191919193,0.9393939393939394,0.9595959595959598,0.9797979797979799,1.0],\"y\":[0.04113945660769125,0.04086157623694986,0.043471539205187426,0.0411504111348201,0.042979377443567834,0.04813818021363847,0.0522327550558771,0.0534031934786422,0.05299060683974355,0.05341818387692432,0.05616683605263273,0.06107095511092253,0.06680674016096333,0.07187752050248741,0.07543816856264085,0.07761679898794815,0.07932596530528124,0.08176971127558286,0.08591528785322855,0.09214257136054105,0.10016927798861508,0.10923219157264341,0.11842195239600883,0.12703735088169477,0.13484124615512205,0.14214859021195858,0.14973724360282248,0.15862558454010356,0.16979436121509983,0.18393832981882519,0.20131761835128614,0.22174646632764983,0.24471783478851505,0.26962639334801786,0.2960276573421189,0.3238623048392171,0.35358280867012226,0.3861417412304706,0.4228320500330168,0.46500249141226657,0.513699511616108,0.5693047241011502,0.6312414843914351,0.6978142849443085,0.7662227612943141,0.832762124453083,0.8931892444183698,0.9432041803964571,0.9789758117121116,0.9976310028098658,0.9976310028126902,0.978975811720064,0.943204180408105,0.8931892444317286,0.8327621244661211,0.7662227613054893,0.6978142849529992,0.6312414843981692,0.5693047241075544,0.5136995116245854,0.46500249142545713,0.4228320500531547,0.38614174125878975,0.35358280870644565,0.32386230488184653,0.2960276573880659,0.26962639339354455,0.24471783482986775,0.2217464663618114,0.20131761837658013,0.1839383298351892,0.16979436122396652,0.15862558454380526,0.14973724360397733,0.14214859021236492,0.1348412461554631,0.12703735088149826,0.11842195239319375,0.10923219156577313,0.10016927797682118,0.09214257134545312,0.08591528783813662,0.08176971126541543,0.07932596530180291,0.07761679898940077,0.07543816856637076,0.0718775204999541,0.06680674014279342,0.06107095507264115,0.05616683600086814,0.05341818384681152,0.05299060683173196,0.05340319353077716,0.05223275516517567,0.048138180399044384,0.04297937765643267,0.04115041122268159,0.043471539455073316,0.04086157652984024,0.04113945615341197],\"type\":\"scatter\"}],                        {\"template\":{\"data\":{\"barpolar\":[{\"marker\":{\"line\":{\"color\":\"rgb(17,17,17)\",\"width\":0.5},\"pattern\":{\"fillmode\":\"overlay\",\"size\":10,\"solidity\":0.2}},\"type\":\"barpolar\"}],\"bar\":[{\"error_x\":{\"color\":\"#f2f5fa\"},\"error_y\":{\"color\":\"#f2f5fa\"},\"marker\":{\"line\":{\"color\":\"rgb(17,17,17)\",\"width\":0.5},\"pattern\":{\"fillmode\":\"overlay\",\"size\":10,\"solidity\":0.2}},\"type\":\"bar\"}],\"carpet\":[{\"aaxis\":{\"endlinecolor\":\"#A2B1C6\",\"gridcolor\":\"#506784\",\"linecolor\":\"#506784\",\"minorgridcolor\":\"#506784\",\"startlinecolor\":\"#A2B1C6\"},\"baxis\":{\"endlinecolor\":\"#A2B1C6\",\"gridcolor\":\"#506784\",\"linecolor\":\"#506784\",\"minorgridcolor\":\"#506784\",\"startlinecolor\":\"#A2B1C6\"},\"type\":\"carpet\"}],\"choropleth\":[{\"colorbar\":{\"outlinewidth\":0,\"ticks\":\"\"},\"type\":\"choropleth\"}],\"contourcarpet\":[{\"colorbar\":{\"outlinewidth\":0,\"ticks\":\"\"},\"type\":\"contourcarpet\"}],\"contour\":[{\"colorbar\":{\"outlinewidth\":0,\"ticks\":\"\"},\"colorscale\":[[0.0,\"#0d0887\"],[0.1111111111111111,\"#46039f\"],[0.2222222222222222,\"#7201a8\"],[0.3333333333333333,\"#9c179e\"],[0.4444444444444444,\"#bd3786\"],[0.5555555555555556,\"#d8576b\"],[0.6666666666666666,\"#ed7953\"],[0.7777777777777778,\"#fb9f3a\"],[0.8888888888888888,\"#fdca26\"],[1.0,\"#f0f921\"]],\"type\":\"contour\"}],\"heatmapgl\":[{\"colorbar\":{\"outlinewidth\":0,\"ticks\":\"\"},\"colorscale\":[[0.0,\"#0d0887\"],[0.1111111111111111,\"#46039f\"],[0.2222222222222222,\"#7201a8\"],[0.3333333333333333,\"#9c179e\"],[0.4444444444444444,\"#bd3786\"],[0.5555555555555556,\"#d8576b\"],[0.6666666666666666,\"#ed7953\"],[0.7777777777777778,\"#fb9f3a\"],[0.8888888888888888,\"#fdca26\"],[1.0,\"#f0f921\"]],\"type\":\"heatmapgl\"}],\"heatmap\":[{\"colorbar\":{\"outlinewidth\":0,\"ticks\":\"\"},\"colorscale\":[[0.0,\"#0d0887\"],[0.1111111111111111,\"#46039f\"],[0.2222222222222222,\"#7201a8\"],[0.3333333333333333,\"#9c179e\"],[0.4444444444444444,\"#bd3786\"],[0.5555555555555556,\"#d8576b\"],[0.6666666666666666,\"#ed7953\"],[0.7777777777777778,\"#fb9f3a\"],[0.8888888888888888,\"#fdca26\"],[1.0,\"#f0f921\"]],\"type\":\"heatmap\"}],\"histogram2dcontour\":[{\"colorbar\":{\"outlinewidth\":0,\"ticks\":\"\"},\"colorscale\":[[0.0,\"#0d0887\"],[0.1111111111111111,\"#46039f\"],[0.2222222222222222,\"#7201a8\"],[0.3333333333333333,\"#9c179e\"],[0.4444444444444444,\"#bd3786\"],[0.5555555555555556,\"#d8576b\"],[0.6666666666666666,\"#ed7953\"],[0.7777777777777778,\"#fb9f3a\"],[0.8888888888888888,\"#fdca26\"],[1.0,\"#f0f921\"]],\"type\":\"histogram2dcontour\"}],\"histogram2d\":[{\"colorbar\":{\"outlinewidth\":0,\"ticks\":\"\"},\"colorscale\":[[0.0,\"#0d0887\"],[0.1111111111111111,\"#46039f\"],[0.2222222222222222,\"#7201a8\"],[0.3333333333333333,\"#9c179e\"],[0.4444444444444444,\"#bd3786\"],[0.5555555555555556,\"#d8576b\"],[0.6666666666666666,\"#ed7953\"],[0.7777777777777778,\"#fb9f3a\"],[0.8888888888888888,\"#fdca26\"],[1.0,\"#f0f921\"]],\"type\":\"histogram2d\"}],\"histogram\":[{\"marker\":{\"pattern\":{\"fillmode\":\"overlay\",\"size\":10,\"solidity\":0.2}},\"type\":\"histogram\"}],\"mesh3d\":[{\"colorbar\":{\"outlinewidth\":0,\"ticks\":\"\"},\"type\":\"mesh3d\"}],\"parcoords\":[{\"line\":{\"colorbar\":{\"outlinewidth\":0,\"ticks\":\"\"}},\"type\":\"parcoords\"}],\"pie\":[{\"automargin\":true,\"type\":\"pie\"}],\"scatter3d\":[{\"line\":{\"colorbar\":{\"outlinewidth\":0,\"ticks\":\"\"}},\"marker\":{\"colorbar\":{\"outlinewidth\":0,\"ticks\":\"\"}},\"type\":\"scatter3d\"}],\"scattercarpet\":[{\"marker\":{\"colorbar\":{\"outlinewidth\":0,\"ticks\":\"\"}},\"type\":\"scattercarpet\"}],\"scattergeo\":[{\"marker\":{\"colorbar\":{\"outlinewidth\":0,\"ticks\":\"\"}},\"type\":\"scattergeo\"}],\"scattergl\":[{\"marker\":{\"line\":{\"color\":\"#283442\"}},\"type\":\"scattergl\"}],\"scattermapbox\":[{\"marker\":{\"colorbar\":{\"outlinewidth\":0,\"ticks\":\"\"}},\"type\":\"scattermapbox\"}],\"scatterpolargl\":[{\"marker\":{\"colorbar\":{\"outlinewidth\":0,\"ticks\":\"\"}},\"type\":\"scatterpolargl\"}],\"scatterpolar\":[{\"marker\":{\"colorbar\":{\"outlinewidth\":0,\"ticks\":\"\"}},\"type\":\"scatterpolar\"}],\"scatter\":[{\"marker\":{\"line\":{\"color\":\"#283442\"}},\"type\":\"scatter\"}],\"scatterternary\":[{\"marker\":{\"colorbar\":{\"outlinewidth\":0,\"ticks\":\"\"}},\"type\":\"scatterternary\"}],\"surface\":[{\"colorbar\":{\"outlinewidth\":0,\"ticks\":\"\"},\"colorscale\":[[0.0,\"#0d0887\"],[0.1111111111111111,\"#46039f\"],[0.2222222222222222,\"#7201a8\"],[0.3333333333333333,\"#9c179e\"],[0.4444444444444444,\"#bd3786\"],[0.5555555555555556,\"#d8576b\"],[0.6666666666666666,\"#ed7953\"],[0.7777777777777778,\"#fb9f3a\"],[0.8888888888888888,\"#fdca26\"],[1.0,\"#f0f921\"]],\"type\":\"surface\"}],\"table\":[{\"cells\":{\"fill\":{\"color\":\"#506784\"},\"line\":{\"color\":\"rgb(17,17,17)\"}},\"header\":{\"fill\":{\"color\":\"#2a3f5f\"},\"line\":{\"color\":\"rgb(17,17,17)\"}},\"type\":\"table\"}]},\"layout\":{\"annotationdefaults\":{\"arrowcolor\":\"#f2f5fa\",\"arrowhead\":0,\"arrowwidth\":1},\"autotypenumbers\":\"strict\",\"coloraxis\":{\"colorbar\":{\"outlinewidth\":0,\"ticks\":\"\"}},\"colorscale\":{\"diverging\":[[0,\"#8e0152\"],[0.1,\"#c51b7d\"],[0.2,\"#de77ae\"],[0.3,\"#f1b6da\"],[0.4,\"#fde0ef\"],[0.5,\"#f7f7f7\"],[0.6,\"#e6f5d0\"],[0.7,\"#b8e186\"],[0.8,\"#7fbc41\"],[0.9,\"#4d9221\"],[1,\"#276419\"]],\"sequential\":[[0.0,\"#0d0887\"],[0.1111111111111111,\"#46039f\"],[0.2222222222222222,\"#7201a8\"],[0.3333333333333333,\"#9c179e\"],[0.4444444444444444,\"#bd3786\"],[0.5555555555555556,\"#d8576b\"],[0.6666666666666666,\"#ed7953\"],[0.7777777777777778,\"#fb9f3a\"],[0.8888888888888888,\"#fdca26\"],[1.0,\"#f0f921\"]],\"sequentialminus\":[[0.0,\"#0d0887\"],[0.1111111111111111,\"#46039f\"],[0.2222222222222222,\"#7201a8\"],[0.3333333333333333,\"#9c179e\"],[0.4444444444444444,\"#bd3786\"],[0.5555555555555556,\"#d8576b\"],[0.6666666666666666,\"#ed7953\"],[0.7777777777777778,\"#fb9f3a\"],[0.8888888888888888,\"#fdca26\"],[1.0,\"#f0f921\"]]},\"colorway\":[\"#636efa\",\"#EF553B\",\"#00cc96\",\"#ab63fa\",\"#FFA15A\",\"#19d3f3\",\"#FF6692\",\"#B6E880\",\"#FF97FF\",\"#FECB52\"],\"font\":{\"color\":\"#f2f5fa\"},\"geo\":{\"bgcolor\":\"rgb(17,17,17)\",\"lakecolor\":\"rgb(17,17,17)\",\"landcolor\":\"rgb(17,17,17)\",\"showlakes\":true,\"showland\":true,\"subunitcolor\":\"#506784\"},\"hoverlabel\":{\"align\":\"left\"},\"hovermode\":\"closest\",\"mapbox\":{\"style\":\"dark\"},\"paper_bgcolor\":\"rgb(17,17,17)\",\"plot_bgcolor\":\"rgb(17,17,17)\",\"polar\":{\"angularaxis\":{\"gridcolor\":\"#506784\",\"linecolor\":\"#506784\",\"ticks\":\"\"},\"bgcolor\":\"rgb(17,17,17)\",\"radialaxis\":{\"gridcolor\":\"#506784\",\"linecolor\":\"#506784\",\"ticks\":\"\"}},\"scene\":{\"xaxis\":{\"backgroundcolor\":\"rgb(17,17,17)\",\"gridcolor\":\"#506784\",\"gridwidth\":2,\"linecolor\":\"#506784\",\"showbackground\":true,\"ticks\":\"\",\"zerolinecolor\":\"#C8D4E3\"},\"yaxis\":{\"backgroundcolor\":\"rgb(17,17,17)\",\"gridcolor\":\"#506784\",\"gridwidth\":2,\"linecolor\":\"#506784\",\"showbackground\":true,\"ticks\":\"\",\"zerolinecolor\":\"#C8D4E3\"},\"zaxis\":{\"backgroundcolor\":\"rgb(17,17,17)\",\"gridcolor\":\"#506784\",\"gridwidth\":2,\"linecolor\":\"#506784\",\"showbackground\":true,\"ticks\":\"\",\"zerolinecolor\":\"#C8D4E3\"}},\"shapedefaults\":{\"line\":{\"color\":\"#f2f5fa\"}},\"sliderdefaults\":{\"bgcolor\":\"#C8D4E3\",\"bordercolor\":\"rgb(17,17,17)\",\"borderwidth\":1,\"tickwidth\":0},\"ternary\":{\"aaxis\":{\"gridcolor\":\"#506784\",\"linecolor\":\"#506784\",\"ticks\":\"\"},\"baxis\":{\"gridcolor\":\"#506784\",\"linecolor\":\"#506784\",\"ticks\":\"\"},\"bgcolor\":\"rgb(17,17,17)\",\"caxis\":{\"gridcolor\":\"#506784\",\"linecolor\":\"#506784\",\"ticks\":\"\"}},\"title\":{\"x\":0.05},\"updatemenudefaults\":{\"bgcolor\":\"#506784\",\"borderwidth\":0},\"xaxis\":{\"automargin\":true,\"gridcolor\":\"#283442\",\"linecolor\":\"#506784\",\"ticks\":\"\",\"title\":{\"standoff\":15},\"zerolinecolor\":\"#283442\",\"zerolinewidth\":2},\"yaxis\":{\"automargin\":true,\"gridcolor\":\"#283442\",\"linecolor\":\"#506784\",\"ticks\":\"\",\"title\":{\"standoff\":15},\"zerolinecolor\":\"#283442\",\"zerolinewidth\":2}}},\"xaxis\":{\"anchor\":\"y\",\"domain\":[0.0,1.0]},\"yaxis\":{\"anchor\":\"x\",\"domain\":[0.0,1.0]},\"width\":700,\"height\":400},                        {\"responsive\": true}                    ).then(function(){\n",
              "                            \n",
              "var gd = document.getElementById('cda4f3f9-53e9-4a9b-8f80-5617c4f325be');\n",
              "var x = new MutationObserver(function (mutations, observer) {{\n",
              "        var display = window.getComputedStyle(gd).display;\n",
              "        if (!display || display === 'none') {{\n",
              "            console.log([gd, 'removed!']);\n",
              "            Plotly.purge(gd);\n",
              "            observer.disconnect();\n",
              "        }}\n",
              "}});\n",
              "\n",
              "// Listen for the removal of the full notebook cells\n",
              "var notebookContainer = gd.closest('#notebook-container');\n",
              "if (notebookContainer) {{\n",
              "    x.observe(notebookContainer, {childList: true});\n",
              "}}\n",
              "\n",
              "// Listen for the clearing of the current output cell\n",
              "var outputEl = gd.closest('.output');\n",
              "if (outputEl) {{\n",
              "    x.observe(outputEl, {childList: true});\n",
              "}}\n",
              "\n",
              "                        })                };                            </script>        </div>\n",
              "</body>\n",
              "</html>"
            ]
          },
          "metadata": {}
        }
      ]
    },
    {
      "cell_type": "code",
      "source": [],
      "metadata": {
        "colab": {
          "base_uri": "https://localhost:8080/"
        },
        "id": "asRKuoOm-z3V",
        "outputId": "242b594b-c81c-4369-c0e5-144ef2a1c262"
      },
      "execution_count": 84,
      "outputs": [
        {
          "output_type": "execute_result",
          "data": {
            "text/plain": [
              "array([-0.98768834, -0.89100652, -0.70710678, -0.4539905 , -0.15643447,\n",
              "        0.15643447,  0.4539905 ,  0.70710678,  0.89100652,  0.98768834])"
            ]
          },
          "metadata": {},
          "execution_count": 84
        }
      ]
    },
    {
      "cell_type": "code",
      "source": [],
      "metadata": {
        "id": "rVdsGz8_CcxY"
      },
      "execution_count": null,
      "outputs": []
    }
  ]
}