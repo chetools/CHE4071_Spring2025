{
  "nbformat": 4,
  "nbformat_minor": 0,
  "metadata": {
    "colab": {
      "provenance": [],
      "authorship_tag": "ABX9TyNk/HmXQ5Ubc+uu6nCt4Hzb",
      "include_colab_link": true
    },
    "kernelspec": {
      "name": "python3",
      "display_name": "Python 3"
    },
    "language_info": {
      "name": "python"
    }
  },
  "cells": [
    {
      "cell_type": "markdown",
      "metadata": {
        "id": "view-in-github",
        "colab_type": "text"
      },
      "source": [
        "<a href=\"https://colab.research.google.com/github/chetools/CHE4071_Spring2025/blob/main/ExothermicCSTR.ipynb\" target=\"_parent\"><img src=\"https://colab.research.google.com/assets/colab-badge.svg\" alt=\"Open In Colab\"/></a>"
      ]
    },
    {
      "cell_type": "code",
      "execution_count": 1,
      "metadata": {
        "id": "P_FbAJ3dxNOv"
      },
      "outputs": [],
      "source": [
        "import numpy as np\n",
        "from plotly.subplots import make_subplots\n",
        "from scipy.integrate import solve_ivp"
      ]
    },
    {
      "cell_type": "code",
      "source": [
        "q = 100 #L/min\n",
        "cai = 1 #mol/L\n",
        "Ti = 350 #K\n",
        "V = 100 #L\n",
        "rho = 1000 #g/L\n",
        "C = 0.239 #J/(g K)\n",
        "negHr = 5e4 #J/mol\n",
        "ER = 8750 #K\n",
        "k0 = 7.2e10 #1/min\n",
        "UA = 5e4 #J/(min K)\n",
        "Tc0 = 300 #K\n",
        "Tc = 305 #K\n",
        "ca0 = 0.5 #mol/L\n",
        "T0 = 350 #K\n"
      ],
      "metadata": {
        "id": "-OmENEs3xVGA"
      },
      "execution_count": 4,
      "outputs": []
    },
    {
      "cell_type": "code",
      "source": [
        "def rhs(t, vec):\n",
        "    ca, T = vec\n",
        "    k = k0*np.exp(-ER/T)\n",
        "    return [q/V * (cai - ca) - V*k*ca,\n",
        "            q/V * (Ti - T) + negHr*k*ca/(rho*C) - UA/(rho*V*C)*(T-Tc)]"
      ],
      "metadata": {
        "id": "0VnsQLmNzeQ9"
      },
      "execution_count": 5,
      "outputs": []
    },
    {
      "cell_type": "code",
      "source": [
        "tend = 100 #min\n",
        "solve_ivp(rhs, (0,tend), [ca0, T0], method='Radau', dense_output=True)"
      ],
      "metadata": {
        "colab": {
          "base_uri": "https://localhost:8080/"
        },
        "id": "FapHyqPR0OuN",
        "outputId": "9dc7b60d-12cd-438a-f7f7-d64545220016"
      },
      "execution_count": 6,
      "outputs": [
        {
          "output_type": "execute_result",
          "data": {
            "text/plain": [
              "  message: The solver successfully reached the end of the integration interval.\n",
              "  success: True\n",
              "   status: 0\n",
              "        t: [ 0.000e+00  6.147e-03 ...  7.825e+01  1.000e+02]\n",
              "        y: [[ 5.000e-01  2.736e-01 ...  9.316e-02  9.316e-02]\n",
              "            [ 3.500e+02  3.499e+02 ...  3.202e+02  3.202e+02]]\n",
              "      sol: <scipy.integrate._ivp.common.OdeSolution object at 0x7957b4cb0190>\n",
              " t_events: None\n",
              " y_events: None\n",
              "     nfev: 208\n",
              "     njev: 7\n",
              "      nlu: 42"
            ]
          },
          "metadata": {},
          "execution_count": 6
        }
      ]
    },
    {
      "cell_type": "code",
      "source": [],
      "metadata": {
        "id": "W9t02caY0iCx"
      },
      "execution_count": null,
      "outputs": []
    }
  ]
}