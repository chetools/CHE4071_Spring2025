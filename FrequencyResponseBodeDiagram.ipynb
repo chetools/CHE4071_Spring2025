{
  "nbformat": 4,
  "nbformat_minor": 0,
  "metadata": {
    "colab": {
      "provenance": [],
      "authorship_tag": "ABX9TyOO0i673wj0glcjwM14YG8J",
      "include_colab_link": true
    },
    "kernelspec": {
      "name": "python3",
      "display_name": "Python 3"
    },
    "language_info": {
      "name": "python"
    }
  },
  "cells": [
    {
      "cell_type": "markdown",
      "metadata": {
        "id": "view-in-github",
        "colab_type": "text"
      },
      "source": [
        "<a href=\"https://colab.research.google.com/github/chetools/CHE4071_Spring2025/blob/main/FrequencyResponseBodeDiagram.ipynb\" target=\"_parent\"><img src=\"https://colab.research.google.com/assets/colab-badge.svg\" alt=\"Open In Colab\"/></a>"
      ]
    },
    {
      "cell_type": "code",
      "execution_count": null,
      "metadata": {
        "colab": {
          "base_uri": "https://localhost:8080/"
        },
        "id": "2IVvN85dWumt",
        "outputId": "d0a2ad7c-6b5c-4d4a-f130-32868135d5e3"
      },
      "outputs": [
        {
          "output_type": "stream",
          "name": "stdout",
          "text": [
            "Collecting importnb\n",
            "  Downloading importnb-2023.11.1-py3-none-any.whl.metadata (9.4 kB)\n",
            "Downloading importnb-2023.11.1-py3-none-any.whl (45 kB)\n",
            "\u001b[2K   \u001b[90m━━━━━━━━━━━━━━━━━━━━━━━━━━━━━━━━━━━━━━━━\u001b[0m \u001b[32m46.0/46.0 kB\u001b[0m \u001b[31m705.7 kB/s\u001b[0m eta \u001b[36m0:00:00\u001b[0m\n",
            "\u001b[?25hInstalling collected packages: importnb\n",
            "Successfully installed importnb-2023.11.1\n"
          ]
        }
      ],
      "source": [
        "!wget -N -q https://raw.githubusercontent.com/chetools/chetools/main/tools/che5.ipynb -O che5.ipynb\n",
        "!pip install importnb"
      ]
    },
    {
      "cell_type": "code",
      "source": [
        "from importnb import Notebook\n",
        "with Notebook():\n",
        "    from che5 import sim, pid, TF1, TF2, shift, rhs2TF\n",
        "\n",
        "import numpy as np\n",
        "import jax\n",
        "import jax.numpy as jnp\n",
        "jax.config.update(\"jax_enable_x64\", True)\n",
        "\n",
        "from plotly.subplots import make_subplots\n",
        "\n",
        "from sympy.abc import s, w\n",
        "from sympy import exp, Symbol, simplify\n",
        "import sympy\n",
        "import scipy as sp\n",
        "import scipy.signal as sig"
      ],
      "metadata": {
        "id": "W0bo2gMdWwAr"
      },
      "execution_count": null,
      "outputs": []
    },
    {
      "cell_type": "code",
      "source": [
        "Gc = 1.2\n",
        "Gp = 2/(12*s + 1)\n",
        "G = Gc*Gp"
      ],
      "metadata": {
        "id": "jtudOqQNgY2S"
      },
      "execution_count": null,
      "outputs": []
    },
    {
      "cell_type": "code",
      "source": [
        "ws = np.logspace(-1, 3, 100)"
      ],
      "metadata": {
        "id": "tjdgEXidvbtm"
      },
      "execution_count": null,
      "outputs": []
    },
    {
      "cell_type": "code",
      "source": [
        "#Evaluate transfer function G over a range of frequencies (ws) after substitution s=jw\n",
        "#and using lambdify to transform the resulting Sympy expression into a Python function\n",
        "\n",
        "Gjw = sympy.lambdify(w, G.subs({s: w*1j}))(ws)"
      ],
      "metadata": {
        "id": "E2gghNH0umYL"
      },
      "execution_count": null,
      "outputs": []
    },
    {
      "cell_type": "code",
      "source": [
        "R, I = np.real(Gjw), np.imag(Gjw)"
      ],
      "metadata": {
        "id": "nubEVeEpuozt"
      },
      "execution_count": null,
      "outputs": []
    },
    {
      "cell_type": "code",
      "source": [
        "M = np.sqrt(R**2 + I**2)\n",
        "M"
      ],
      "metadata": {
        "id": "nxFOy6rMwvjt",
        "outputId": "83bd657d-e393-47b7-9ccb-4553bca12948",
        "colab": {
          "base_uri": "https://localhost:8080/"
        }
      },
      "execution_count": null,
      "outputs": [
        {
          "output_type": "execute_result",
          "data": {
            "text/plain": [
              "array([1.53644256e+00, 1.45135436e+00, 1.36549052e+00, 1.27985150e+00,\n",
              "       1.19536767e+00, 1.11286268e+00, 1.03302975e+00, 9.56420742e-01,\n",
              "       8.83446529e-01, 8.14385736e-01, 7.49399211e-01, 6.88547458e-01,\n",
              "       6.31808956e-01, 5.79097805e-01, 5.30279754e-01, 4.85186099e-01,\n",
              "       4.43625305e-01, 4.05392407e-01, 3.70276397e-01, 3.38065868e-01,\n",
              "       3.08553191e-01, 2.81537489e-01, 2.56826672e-01, 2.34238718e-01,\n",
              "       2.13602394e-01, 1.94757552e-01, 1.77555113e-01, 1.61856827e-01,\n",
              "       1.47534887e-01, 1.34471439e-01, 1.22558034e-01, 1.11695045e-01,\n",
              "       1.01791083e-01, 9.27624101e-02, 8.45323742e-02, 7.70308639e-02,\n",
              "       7.01937931e-02, 6.39626149e-02, 5.82838669e-02, 5.31087478e-02,\n",
              "       4.83927247e-02, 4.40951704e-02, 4.01790284e-02, 3.66105053e-02,\n",
              "       3.33587879e-02, 3.03957836e-02, 2.76958831e-02, 2.52357425e-02,\n",
              "       2.29940845e-02, 2.09515167e-02, 1.90903652e-02, 1.73945232e-02,\n",
              "       1.58493124e-02, 1.44413566e-02, 1.31584667e-02, 1.19895354e-02,\n",
              "       1.09244413e-02, 9.95396152e-03, 9.06969225e-03, 8.26397581e-03,\n",
              "       7.52983455e-03, 6.86091054e-03, 6.25141049e-03, 5.69605569e-03,\n",
              "       5.19003629e-03, 4.72896965e-03, 4.30886244e-03, 3.92607605e-03,\n",
              "       3.57729508e-03, 3.25949866e-03, 2.96993425e-03, 2.70609383e-03,\n",
              "       2.46569218e-03, 2.24664708e-03, 2.04706130e-03, 1.86520613e-03,\n",
              "       1.69950645e-03, 1.54852704e-03, 1.41096022e-03, 1.28561444e-03,\n",
              "       1.17140402e-03, 1.06733974e-03, 9.72520236e-04, 8.86124231e-04,\n",
              "       8.07403406e-04, 7.35675920e-04, 6.70320504e-04, 6.10771082e-04,\n",
              "       5.56511865e-04, 5.07072887e-04, 4.62025931e-04, 4.20980822e-04,\n",
              "       3.83582047e-04, 3.49505676e-04, 3.18456556e-04, 2.90165754e-04,\n",
              "       2.64388228e-04, 2.40900707e-04, 2.19499752e-04, 1.99999999e-04])"
            ]
          },
          "metadata": {},
          "execution_count": 38
        }
      ]
    },
    {
      "cell_type": "code",
      "source": [
        "-np.atan2(I, R) * 180/np.pi"
      ],
      "metadata": {
        "id": "pXHm4Q6dxtdu",
        "outputId": "fe2e5329-50a3-4a6c-dddf-35f5f501eb75",
        "colab": {
          "base_uri": "https://localhost:8080/"
        }
      },
      "execution_count": null,
      "outputs": [
        {
          "output_type": "execute_result",
          "data": {
            "text/plain": [
              "array([50.19442891, 52.79051395, 55.32265611, 57.77323835, 60.12761501,\n",
              "       62.37434593, 64.50520752, 66.51502044, 68.40134538, 70.16409966,\n",
              "       71.80514146, 73.32785831, 74.73678495, 76.03726587, 77.23516885,\n",
              "       78.33665039, 79.34796977, 80.27534617, 81.12485276, 81.90234116,\n",
              "       82.6133906 , 83.26327619, 83.85695218, 84.39904629, 84.89386218,\n",
              "       85.3453878 , 85.75730768, 86.13301779, 86.47564192, 86.78804879,\n",
              "       87.07286934, 87.3325137 , 87.56918775, 87.78490883, 87.98152073,\n",
              "       88.1607077 , 88.32400763, 88.47282423, 88.60843837, 88.73201854,\n",
              "       88.8446305 , 88.94724612, 89.04075154, 89.12595467, 89.20359196,\n",
              "       89.27433472, 89.33879482, 89.39752992, 89.45104827, 89.49981303,\n",
              "       89.5442463 , 89.58473271, 89.62162279, 89.65523593, 89.68586317,\n",
              "       89.71376974, 89.73919728, 89.76236599, 89.78347653, 89.80271172,\n",
              "       89.82023815, 89.8362076 , 89.8507584 , 89.86401656, 89.87609691,\n",
              "       89.88710409, 89.89713343, 89.9062718 , 89.91459834, 89.92218518,\n",
              "       89.92909802, 89.93539675, 89.94113592, 89.94636524, 89.95113001,\n",
              "       89.95547148, 89.95942727, 89.96303164, 89.9663158 , 89.96930821,\n",
              "       89.97203479, 89.97451914, 89.97678279, 89.97884534, 89.98072466,\n",
              "       89.98243703, 89.98399728, 89.98541891, 89.98671426, 89.98789453,\n",
              "       89.98896994, 89.98994982, 89.99084265, 89.99165617, 89.99239741,\n",
              "       89.9930728 , 89.9936882 , 89.99424892, 89.99475983, 89.99522535])"
            ]
          },
          "metadata": {},
          "execution_count": 39
        }
      ]
    },
    {
      "cell_type": "code",
      "source": [],
      "metadata": {
        "id": "cbcMNZ0qyLef"
      },
      "execution_count": null,
      "outputs": []
    }
  ]
}