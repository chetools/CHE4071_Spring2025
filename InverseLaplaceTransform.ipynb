{
  "nbformat": 4,
  "nbformat_minor": 0,
  "metadata": {
    "colab": {
      "provenance": [],
      "authorship_tag": "ABX9TyOQzCRcFkVNmHvPUaZ94DrN",
      "include_colab_link": true
    },
    "kernelspec": {
      "name": "python3",
      "display_name": "Python 3"
    },
    "language_info": {
      "name": "python"
    }
  },
  "cells": [
    {
      "cell_type": "markdown",
      "metadata": {
        "id": "view-in-github",
        "colab_type": "text"
      },
      "source": [
        "<a href=\"https://colab.research.google.com/github/chetools/CHE4071_Spring2025/blob/main/InverseLaplaceTransform.ipynb\" target=\"_parent\"><img src=\"https://colab.research.google.com/assets/colab-badge.svg\" alt=\"Open In Colab\"/></a>"
      ]
    },
    {
      "cell_type": "code",
      "execution_count": 1,
      "metadata": {
        "colab": {
          "base_uri": "https://localhost:8080/"
        },
        "id": "2IVvN85dWumt",
        "outputId": "5d48edf0-1744-4ebb-9085-de189fda7417"
      },
      "outputs": [
        {
          "output_type": "stream",
          "name": "stdout",
          "text": [
            "Collecting importnb\n",
            "  Downloading importnb-2023.11.1-py3-none-any.whl.metadata (9.4 kB)\n",
            "Downloading importnb-2023.11.1-py3-none-any.whl (45 kB)\n",
            "\u001b[2K   \u001b[90m━━━━━━━━━━━━━━━━━━━━━━━━━━━━━━━━━━━━━━━━\u001b[0m \u001b[32m46.0/46.0 kB\u001b[0m \u001b[31m1.7 MB/s\u001b[0m eta \u001b[36m0:00:00\u001b[0m\n",
            "\u001b[?25hInstalling collected packages: importnb\n",
            "Successfully installed importnb-2023.11.1\n"
          ]
        }
      ],
      "source": [
        "!wget -N -q https://raw.githubusercontent.com/chetools/chetools/main/tools/che5.ipynb -O che5.ipynb\n",
        "!pip install importnb"
      ]
    },
    {
      "cell_type": "code",
      "source": [
        "from importnb import Notebook\n",
        "with Notebook():\n",
        "    from che5 import sim, pid, TF1, TF2, shift, rhs2TF\n",
        "\n",
        "import numpy as np\n",
        "import jax\n",
        "import jax.numpy as jnp\n",
        "jax.config.update(\"jax_enable_x64\", True)\n",
        "\n",
        "from plotly.subplots import make_subplots\n",
        "\n",
        "from sympy.abc import s\n",
        "from sympy import exp, Symbol, simplify,expand\n",
        "import sympy\n",
        "import scipy as sp\n",
        "import scipy.signal as sig"
      ],
      "metadata": {
        "id": "W0bo2gMdWwAr"
      },
      "execution_count": 12,
      "outputs": []
    },
    {
      "cell_type": "code",
      "source": [
        "den_sym=simplify(expand( (s+3)*((s+2)**2)*(s+0.5+2j)*(s+0.5-2j)*((s+1+1j)*(s+1-1j))**2))"
      ],
      "metadata": {
        "id": "jtudOqQNgY2S"
      },
      "execution_count": 16,
      "outputs": []
    },
    {
      "cell_type": "code",
      "source": [
        "den_poly=sympy.Poly(den_sym)"
      ],
      "metadata": {
        "id": "PhZQsPrNErFF"
      },
      "execution_count": 18,
      "outputs": []
    },
    {
      "cell_type": "code",
      "source": [
        "den_coeffs=den_poly.all_coeffs()"
      ],
      "metadata": {
        "id": "d5e1tKgkGD_2"
      },
      "execution_count": 21,
      "outputs": []
    },
    {
      "cell_type": "code",
      "source": [
        "sig.residue(1.,den_coeffs)"
      ],
      "metadata": {
        "colab": {
          "base_uri": "https://localhost:8080/"
        },
        "id": "-lJFFKrvGKAG",
        "outputId": "943a25da-8951-4e71-8596-7b845648459f"
      },
      "execution_count": 22,
      "outputs": [
        {
          "output_type": "execute_result",
          "data": {
            "text/plain": [
              "(array([-0.03051863-1.06793280e-02j,  0.0027027 +1.62162162e-02j,\n",
              "        -0.03051863+1.06793280e-02j,  0.0027027 -1.62162162e-02j,\n",
              "         0.0592    +5.22959454e-18j,  0.04      +1.13686838e-17j,\n",
              "        -0.00103259-3.18352367e-04j, -0.00103259+3.18352367e-04j,\n",
              "         0.00390244-1.16865470e-17j]),\n",
              " array([-1. +1.j, -1. +1.j, -1. -1.j, -1. -1.j, -2. +0.j, -2. +0.j,\n",
              "        -0.5+2.j, -0.5-2.j, -3. +0.j]),\n",
              " array([], dtype=float64))"
            ]
          },
          "metadata": {},
          "execution_count": 22
        }
      ]
    },
    {
      "cell_type": "code",
      "source": [],
      "metadata": {
        "id": "VBLQe5zuGWMV"
      },
      "execution_count": null,
      "outputs": []
    }
  ]
}