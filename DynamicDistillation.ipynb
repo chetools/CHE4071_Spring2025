{
  "nbformat": 4,
  "nbformat_minor": 0,
  "metadata": {
    "colab": {
      "provenance": [],
      "authorship_tag": "ABX9TyNxGOmNjkfmwZcyYOfY3blK",
      "include_colab_link": true
    },
    "kernelspec": {
      "name": "python3",
      "display_name": "Python 3"
    },
    "language_info": {
      "name": "python"
    }
  },
  "cells": [
    {
      "cell_type": "markdown",
      "metadata": {
        "id": "view-in-github",
        "colab_type": "text"
      },
      "source": [
        "<a href=\"https://colab.research.google.com/github/chetools/CHE4071_Spring2025/blob/main/DynamicDistillation.ipynb\" target=\"_parent\"><img src=\"https://colab.research.google.com/assets/colab-badge.svg\" alt=\"Open In Colab\"/></a>"
      ]
    },
    {
      "cell_type": "code",
      "execution_count": 1,
      "metadata": {
        "id": "mtboCM6P1f--"
      },
      "outputs": [],
      "source": [
        "import numpy as np\n",
        "from plotly.subplots import make_subplots"
      ]
    },
    {
      "cell_type": "code",
      "source": [
        "# 0 Condenser\n",
        "# 1 Stage 1\n",
        "# 2 Stage 2\n",
        "# 3 Feed Stage\n",
        "# 4 Stage 3\n",
        "# 5 Stage 4\n",
        "# 6 Reboiler\n",
        "\n",
        "N=7\n",
        "FW_const = 12. #Francis-Weir constant\n",
        "m0 = 1.2 #moles in each tray at zero flow"
      ],
      "metadata": {
        "id": "WSqHOlLe1sGA"
      },
      "execution_count": 15,
      "outputs": []
    },
    {
      "cell_type": "code",
      "source": [
        "F = 1. #mol/s\n",
        "z = 0.5\n",
        "q = 0.9 #saturated liquid feed\n",
        "D = 0.6\n",
        "B = F - D\n",
        "R = 2.\n",
        "Lt = R*D  #Stage 1, Stage 2,\n",
        "mt = (Lt / FW_const)**(2/3) + m0\n",
        "\n",
        "Lb = Lt + q*F\n",
        "mb = (Lb / FW_const)**(2/3) + m0\n",
        "\n",
        "Vt = Lt + D\n",
        "Vb = Vt - (1-q)*F\n",
        "\n",
        "\n",
        "x = np.full(N, z)\n",
        "m = np.r_[10*mt, mt, mt, [mb]*3, 10*mb ]"
      ],
      "metadata": {
        "id": "yeCs2rFm123Q"
      },
      "execution_count": 16,
      "outputs": []
    },
    {
      "cell_type": "code",
      "source": [],
      "metadata": {
        "id": "WhL6XkjC879r"
      },
      "execution_count": null,
      "outputs": []
    },
    {
      "cell_type": "code",
      "source": [
        "L  = FW_const * (m - m0)**1.5\n"
      ],
      "metadata": {
        "id": "S0sbDuf72vIz"
      },
      "execution_count": null,
      "outputs": []
    }
  ]
}